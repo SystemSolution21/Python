{
 "cells": [
  {
   "cell_type": "code",
   "execution_count": 2,
   "id": "c469b7b5",
   "metadata": {},
   "outputs": [
    {
     "name": "stdout",
     "output_type": "stream",
     "text": [
      "for_loop: ['John', 'Jane']\n",
      "list_comprehension: ['John', 'Jane']\n",
      "filter/map: ['John', 'Jane']\n"
     ]
    }
   ],
   "source": [
    "from typing import TypedDict\n",
    "\n",
    "\n",
    "class User(TypedDict):\n",
    "    name: str\n",
    "    age: int\n",
    "\n",
    "users: list[User] = [\n",
    "    {\"name\": \"John\", \"age\": 25},\n",
    "    {\"name\": \"Jane\", \"age\": 30},\n",
    "    {\"name\": \"Bob\", \"age\": 17},\n",
    "]\n",
    "\n",
    "\n",
    "def main() -> None:\n",
    "\n",
    "    # for_loop\n",
    "    adult_names: list[str] = []\n",
    "    for user in users:\n",
    "        if user[\"age\"] >= 18:\n",
    "            adult_names.append(user[\"name\"])\n",
    "\n",
    "    print(f'for_loop: {adult_names}')\n",
    "\n",
    "    # list_comprehension\n",
    "    adult_names: list[str] = [user[\"name\"] for user in users if user[\"age\"] >= 18]\n",
    "    print(f'list_comprehension: {adult_names}')\n",
    "\n",
    "    # filter/map\n",
    "    adult_users = filter(lambda user: user[\"age\"] >= 18, users)\n",
    "    adult_names = list( map(lambda user: user[\"name\"], adult_users))\n",
    "    print(f'filter/map: {adult_names}')\n",
    "\n",
    "\n",
    "if __name__ == \"__main__\":\n",
    "    main()\n"
   ]
  },
  {
   "cell_type": "code",
   "execution_count": null,
   "id": "030b53bb",
   "metadata": {},
   "outputs": [
    {
     "name": "stdout",
     "output_type": "stream",
     "text": [
      "for_loop: 0.83 seconds\n",
      "list_comprehension: 0.67 seconds\n",
      "filter/map: 1.32 seconds\n"
     ]
    }
   ],
   "source": [
    "\"\"\"This notebook explores three common approaches for processing a list of user data (TypedDicts).\n",
    "    1. Traditional for-loop: Iterating through the list and conditionally building a new list.\n",
    "    2. List comprehension: A concise way to create lists based on existing iterables.\n",
    "    3. `filter()` and `map()`: Functional programming constructs for filtering and transforming data.\n",
    "\n",
    "    Benchmarks their performance on a significantly larger dataset (10 million users) \n",
    "    to highlight potential differences in execution speed.\n",
    "\"\"\"\n",
    "\n",
    "import time\n",
    "from typing import TypedDict\n",
    "\n",
    "\n",
    "class User(TypedDict):\n",
    "    name: str\n",
    "    age: int\n",
    "\n",
    "users: list[User] = [\n",
    "    {\"name\": f\"User_{i}\", \"age\": i % 50} for i in range(10_000_000)\n",
    "]\n",
    "\n",
    "\n",
    "# for_loop\n",
    "def for_loop(users: list[User])  -> str:\n",
    "    start_time: float = time.perf_counter()\n",
    "    adult_names: list[str] = []\n",
    "    for user in users:\n",
    "        if user[\"age\"] >= 18:\n",
    "            adult_names.append(user[\"name\"])\n",
    "    end_time: float = time.perf_counter()\n",
    "    return (f'for_loop: {end_time - start_time:.2f} seconds')\n",
    "\n",
    "# list_comprehension\n",
    "def list_comprehension(users: list[User]) -> str:\n",
    "    start_time: float = time.perf_counter()\n",
    "    adult_names: list[str] = [user[\"name\"] for user in users if user[\"age\"] >= 18]\n",
    "    end_time: float = time.perf_counter()\n",
    "    return (f'list_comprehension: {end_time - start_time:.2f} seconds')\n",
    "\n",
    "# filter/map\n",
    "def filter_map(users: list[User]) -> str:\n",
    "    start_time: float = time.perf_counter()\n",
    "    adult_users = filter(lambda user: user[\"age\"] >= 18, users)\n",
    "    adult_names = list( map(lambda user: user[\"name\"], adult_users))\n",
    "    end_time: float = time.perf_counter()\n",
    "    return (f'filter/map: {end_time - start_time:.2f} seconds')\n",
    "\n",
    "# main\n",
    "def main() -> None:\n",
    "    print(for_loop(users))\n",
    "    print(list_comprehension(users))\n",
    "    print(filter_map(users))\n",
    "\n",
    "if __name__ == \"__main__\":\n",
    "    main()\n"
   ]
  }
 ],
 "metadata": {
  "kernelspec": {
   "display_name": ".venv",
   "language": "python",
   "name": "python3"
  },
  "language_info": {
   "codemirror_mode": {
    "name": "ipython",
    "version": 3
   },
   "file_extension": ".py",
   "mimetype": "text/x-python",
   "name": "python",
   "nbconvert_exporter": "python",
   "pygments_lexer": "ipython3",
   "version": "3.12.8"
  }
 },
 "nbformat": 4,
 "nbformat_minor": 5
}
