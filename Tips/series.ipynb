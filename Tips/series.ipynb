{
 "cells": [
  {
   "cell_type": "code",
   "execution_count": 1,
   "metadata": {},
   "outputs": [
    {
     "name": "stdout",
     "output_type": "stream",
     "text": [
      "[2, 6, 8, 10, 28, 50]\n"
     ]
    }
   ],
   "source": [
    "\n",
    "from typing import Any, List\n",
    "\n",
    "def search_even_numbers(data_array: Any, /,  max: int, *, min: int=0) -> List[int]:\n",
    "\n",
    "    \"\"\"\n",
    "    Search even number between min and max range from data array and return list of even number.\n",
    "\n",
    "    Parameters:\n",
    "    data_array: array of data\n",
    "    min (int): default minimum range is zero.\n",
    "    max (int): maximum range is arbitrary.\n",
    "\n",
    "    returns:\n",
    "    result (List[int]): return list of even number.\n",
    "    \"\"\"\n",
    "    result: list[int] = []\n",
    "    for number in data_array:\n",
    "        if not isinstance(number,(int)):\n",
    "            continue\n",
    "        \n",
    "        is_odd: int = number % 2 !=0\n",
    "        out_of_range: int = number <= min or number >= max\n",
    "        if is_odd or out_of_range:\n",
    "            continue\n",
    "\n",
    "        result.append(number)\n",
    "\n",
    "    return sorted(result)\n",
    "\n",
    "#data_array: list[Any] = [-1, -2, 10, 2, 5, 6, None, \"A\", 3, 19, 50, 28]\n",
    "#data_array: tuple = (-1, -2, 2, 5, 6, 8, 3, 19, 50, None, \"A\", 28)\n",
    "data_array: set[Any] = {-1, -2, 10, None, \"A\", 2, 5, 6, 8, 3, 19, 50, 28}\n",
    "result: List[int] = search_even_numbers(data_array, min=0, max=100)\n",
    "print(result)"
   ]
  },
  {
   "cell_type": "code",
   "execution_count": null,
   "metadata": {},
   "outputs": [
    {
     "name": "stdout",
     "output_type": "stream",
     "text": [
      "Skipping A, not numbers!\n",
      "Skipping -10, negative number!\n",
      "Skipping 1000, number too large than threshold 100!\n",
      "[0, 2, 4, 6]\n",
      "[0, 2, 4, 6, 8, 10]\n"
     ]
    }
   ],
   "source": [
    "def generate_even_numbers(num: int, threshold: int) -> list[int] | str:\n",
    "    \n",
    "    result: list[int] = []\n",
    "\n",
    "    if not isinstance(num, int):\n",
    "        return f'Skipping {num}, not numbers!'\n",
    "    \n",
    "    if num < 0:\n",
    "        return f'Skipping {num}, negative number!'\n",
    "    \n",
    "    if num > threshold:\n",
    "        return f'Skipping {num}, number too large than threshold {threshold}!'\n",
    "    \n",
    "    result = [even for even in range(num + 1) if even % 2 == 0]\n",
    "\n",
    "    return result\n",
    "\n",
    "print(generate_even_numbers(num=\"A\", threshold=100))\n",
    "print(generate_even_numbers(num=-10, threshold=100))\n",
    "print(generate_even_numbers(num=1000, threshold=100))\n",
    "print(generate_even_numbers(num=7, threshold=100))\n",
    "print(generate_even_numbers(num=10, threshold=100))"
   ]
  }
 ],
 "metadata": {
  "kernelspec": {
   "display_name": ".venv",
   "language": "python",
   "name": "python3"
  },
  "language_info": {
   "codemirror_mode": {
    "name": "ipython",
    "version": 3
   },
   "file_extension": ".py",
   "mimetype": "text/x-python",
   "name": "python",
   "nbconvert_exporter": "python",
   "pygments_lexer": "ipython3",
   "version": "3.12.8"
  }
 },
 "nbformat": 4,
 "nbformat_minor": 2
}
