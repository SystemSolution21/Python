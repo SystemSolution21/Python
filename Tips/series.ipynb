{
 "cells": [
  {
   "cell_type": "code",
   "execution_count": 134,
   "metadata": {},
   "outputs": [
    {
     "name": "stdout",
     "output_type": "stream",
     "text": [
      "maximum recursion depth exceeded\n"
     ]
    }
   ],
   "source": [
    "# nth fibonacci number\n",
    "# Dynamic programming (memoization)\n",
    "\n",
    "memo: dict = {}\n",
    "\n",
    "def fib(n: int) -> int:\n",
    "    \"\"\"\n",
    "    Calculate the nth Fibonacci number using dynamic programming (memoization).\n",
    "    \n",
    "    This function uses a dictionary to store previously calculated Fibonacci numbers,\n",
    "    which prevents redundant calculations and allows for efficient computation of\n",
    "    large Fibonacci numbers.\n",
    "    \n",
    "    Args:\n",
    "        n (int): The position in the Fibonacci sequence to calculate\n",
    "        \n",
    "    Returns:\n",
    "        int: The nth Fibonacci number\n",
    "    \"\"\"\n",
    "    \n",
    "    # Search memory\n",
    "    if n in memo:\n",
    "        return memo[n]\n",
    "    \n",
    "    # Base\n",
    "    if n <= 0:\n",
    "        return 0\n",
    "    elif n == 1:\n",
    "        return 1\n",
    "    else:\n",
    "        # Recursion\n",
    "        result: int = fib(n-1) + fib(n-2)\n",
    "\n",
    "    # memorized\n",
    "    memo[n] = result\n",
    "\n",
    "    return result\n",
    "\n",
    "# Usage\n",
    "n: int = 100000\n",
    "try:\n",
    "    result: int = fib(n=n)\n",
    "    print(f'{n}th Fibonacci number: {result}')\n",
    "except Exception as e:\n",
    "    print(e)"
   ]
  },
  {
   "cell_type": "code",
   "execution_count": null,
   "metadata": {},
   "outputs": [
    {
     "name": "stdout",
     "output_type": "stream",
     "text": [
      "Exceeds the limit (4300 digits) for integer string conversion; use sys.set_int_max_str_digits() to increase the limit\n"
     ]
    }
   ],
   "source": [
    "# nth fibonacci number\n",
    "\n",
    "def fib(n) -> int:\n",
    "\n",
    "    a, b = 0, 1\n",
    "\n",
    "    for _ in range(n):\n",
    "        a, b = b, a + b\n",
    "\n",
    "    return a\n",
    "\n",
    "# Usage\n",
    "n: int = 100000\n",
    "try:\n",
    "    result: int = fib(n=n)\n",
    "    print(f'{n}th fibonacci number: {result}')\n",
    "except ValueError as e:\n",
    "    print(e)"
   ]
  },
  {
   "cell_type": "code",
   "execution_count": 136,
   "metadata": {},
   "outputs": [
    {
     "name": "stdout",
     "output_type": "stream",
     "text": [
      "Fibonacci series up to 10000: [0, 1, 1, 2, 3, 5, 8, 13, 21, 34, 55, 89, 144, 233, 377, 610, 987, 1597, 2584, 4181, 6765]\n",
      "Total item: 21\n"
     ]
    }
   ],
   "source": [
    "# Fibonacci series up to n\n",
    "\n",
    "def fib(n: int) -> list[int]:\n",
    "    \"\"\"\n",
    "    Generate a Fibonacci sequence of numbers up to a given limit.\n",
    "    \n",
    "    This function creates a list of Fibonacci numbers where each number\n",
    "    is less than the provided limit 'n'. The sequence starts with 0, 1\n",
    "    and each subsequent number is the sum of the two preceding ones.\n",
    "    \n",
    "    Args:\n",
    "        n (int): The upper limit (exclusive) for the Fibonacci numbers\n",
    "        \n",
    "    Returns:\n",
    "        list[int]: A list containing the Fibonacci sequence up to n\n",
    "    \"\"\"\n",
    "    a, b = 0, 1\n",
    "    num_lst: list[int] = []\n",
    "    \n",
    "    while a < n:\n",
    "        num_lst.append(a)\n",
    "        a, b = b, a + b\n",
    "\n",
    "    return num_lst\n",
    "\n",
    "# Usage\n",
    "n: int = 10000\n",
    "result: list[int] = fib(n=n)\n",
    "print(f'Fibonacci series up to {n}: {result}')\n",
    "print(f'Total item: {len(result)}')"
   ]
  },
  {
   "cell_type": "code",
   "execution_count": null,
   "metadata": {},
   "outputs": [
    {
     "name": "stdout",
     "output_type": "stream",
     "text": [
      "[2, 6, 10, 28, 50]\n",
      "[2, 6, 8, 28, 50]\n",
      "[2, 6, 8, 10, 28, 50]\n"
     ]
    }
   ],
   "source": [
    "\n",
    "from typing import Any, List\n",
    "\n",
    "def search_even_numbers(data_array: Any, /,  max: int, *, min: int=0) -> List[int]:\n",
    "\n",
    "    \"\"\"\n",
    "    Search even number between min and max range from data array and return list of even number.\n",
    "\n",
    "    Parameters:\n",
    "    data_array: array of data\n",
    "    min (int): default minimum range is zero.\n",
    "    max (int): maximum range is arbitrary.\n",
    "\n",
    "    returns:\n",
    "    result (List[int]): return list of even number.\n",
    "    \"\"\"\n",
    "    result: list[int] = []\n",
    "    for number in data_array:\n",
    "        if not isinstance(number,(int)):\n",
    "            continue\n",
    "        \n",
    "        is_odd: int = number % 2 !=0\n",
    "        out_of_range: int = number <= min or number >= max\n",
    "        if is_odd or out_of_range:\n",
    "            continue\n",
    "\n",
    "        result.append(number)\n",
    "\n",
    "    return sorted(result)\n",
    "\n",
    "\n",
    "# Usage\n",
    "data_array_lst: list[Any] = [-1, -2, 10, 2, 5, 6, None, \"A\", 3, 19, 50, 28]\n",
    "result: List[int] = search_even_numbers(data_array_lst, min=0, max=100)\n",
    "print(result)\n",
    "\n",
    "data_array_tpl: tuple = (-1, -2, 2, 5, 6, 8, 3, 19, 50, None, \"A\", 28)\n",
    "result: List[int] = search_even_numbers(data_array_tpl, min=0, max=100)\n",
    "print(result)\n",
    "\n",
    "data_array_set: set[Any] = {-1, -2, 10, None, \"A\", 2, 5, 6, 8, 3, 19, 50, 28}\n",
    "result: List[int] = search_even_numbers(data_array_set, min=0, max=100)\n",
    "print(result)"
   ]
  },
  {
   "cell_type": "code",
   "execution_count": null,
   "metadata": {},
   "outputs": [
    {
     "name": "stdout",
     "output_type": "stream",
     "text": [
      "Skipping A, not numbers!\n",
      "Skipping -10, negative number!\n",
      "Skipping 1000, number too large than threshold 100!\n",
      "[0, 2, 4, 6]\n",
      "[0, 2, 4, 6, 8, 10]\n"
     ]
    }
   ],
   "source": [
    "def generate_even_numbers(num: int, threshold: int) -> list[int] | str:\n",
    "    \"\"\"\n",
    "    Generate a list of even numbers from 0 to num, if num meets certain criteria.\n",
    "    \n",
    "    Args:\n",
    "        num (int): The upper bound for generating even numbers\n",
    "        threshold (int): The maximum allowed value for num\n",
    "        \n",
    "    Returns:\n",
    "        list[int]: A list of even numbers from 0 to num if all criteria are met\n",
    "        str: An error message if any validation fails\n",
    "    \"\"\"\n",
    "    \n",
    "    result: list[int] = []\n",
    "\n",
    "    if not isinstance(num, int):\n",
    "        return f'Skipping {num}, not numbers!'\n",
    "    \n",
    "    if num < 0:\n",
    "        return f'Skipping {num}, negative number!'\n",
    "    \n",
    "    if num > threshold:\n",
    "        return f'Skipping {num}, number too large than threshold {threshold}!'\n",
    "    \n",
    "    result = [even for even in range(num + 1) if even % 2 == 0]\n",
    "\n",
    "    return result\n",
    "\n",
    "# Usage\n",
    "print(generate_even_numbers(num=\"A\", threshold=100))\n",
    "print(generate_even_numbers(num=-10, threshold=100))\n",
    "print(generate_even_numbers(num=1000, threshold=100))\n",
    "print(generate_even_numbers(num=7, threshold=100))\n",
    "print(generate_even_numbers(num=10, threshold=100))"
   ]
  }
 ],
 "metadata": {
  "kernelspec": {
   "display_name": ".venv",
   "language": "python",
   "name": "python3"
  },
  "language_info": {
   "codemirror_mode": {
    "name": "ipython",
    "version": 3
   },
   "file_extension": ".py",
   "mimetype": "text/x-python",
   "name": "python",
   "nbconvert_exporter": "python",
   "pygments_lexer": "ipython3",
   "version": "3.12.8"
  }
 },
 "nbformat": 4,
 "nbformat_minor": 2
}
