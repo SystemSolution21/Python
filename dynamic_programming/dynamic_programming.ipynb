{
 "cells": [
  {
   "cell_type": "code",
   "execution_count": null,
   "id": "6f72c610",
   "metadata": {},
   "outputs": [],
   "source": [
    "\"\"\"\n",
    "Dynamic Programming\n",
    "This module contains implementations of common dynamic programming problems.\n",
    "\"\"\"\n",
    "\n",
    "from functools import lru_cache\n",
    "from typing import Dict, List, Tuple\n"
   ]
  },
  {
   "cell_type": "code",
   "execution_count": null,
   "id": "925a75e1",
   "metadata": {},
   "outputs": [
    {
     "name": "stdout",
     "output_type": "stream",
     "text": [
      "100th Fibonacci number : 354224848179261915075\n"
     ]
    }
   ],
   "source": [
    "# 1. Fibonacci with memoization (top-down approach)\n",
    "# Time complexity: O(n)\n",
    "# Space complexity: O(n)\n",
    "\n",
    "def fibonacci_memo(n: int, memo: Dict[int, int] | None= None) -> int:\n",
    "    \"\"\"\n",
    "    Calculate the nth Fibonacci number using memoization.\n",
    "\n",
    "    Args:\n",
    "        n: The position in the Fibonacci sequence\n",
    "        memo: Dictionary to store previously calculated values\n",
    "\n",
    "    Returns:\n",
    "        The nth Fibonacci number\n",
    "    \"\"\"\n",
    "    if memo is None:\n",
    "        memo = {}\n",
    "\n",
    "    if n in memo:\n",
    "        return memo[n]\n",
    "\n",
    "    if n <= 1:\n",
    "        return n\n",
    "\n",
    "    memo[n] = fibonacci_memo(n=n - 1, memo=memo) + fibonacci_memo(n=n - 2, memo=memo)\n",
    "    return memo[n]\n",
    "\n",
    "n: int = 100\n",
    "print(f\"{n}th Fibonacci number : {fibonacci_memo(n=n)}\")"
   ]
  },
  {
   "cell_type": "code",
   "execution_count": null,
   "id": "f76f7e83",
   "metadata": {},
   "outputs": [
    {
     "name": "stdout",
     "output_type": "stream",
     "text": [
      "100th Fibonacci number: 354224848179261915075\n"
     ]
    }
   ],
   "source": [
    "# 2. Fibonacci with tabulation (bottom-up approach)\n",
    "# Time complexity: O(n)\n",
    "# Space complexity: O(n)\n",
    "\n",
    "def fibonacci_tab(n: int) -> int:\n",
    "    \"\"\"\n",
    "    Calculate the nth Fibonacci number using tabulation.\n",
    "\n",
    "    Args:\n",
    "        n: The position in the Fibonacci sequence\n",
    "\n",
    "    Returns:\n",
    "        The nth Fibonacci number\n",
    "    \"\"\"\n",
    "    if n <= 1:\n",
    "        return n\n",
    "\n",
    "    dp = [0] * (n + 1)\n",
    "    dp[1] = 1\n",
    "\n",
    "    for i in range(2, n + 1):\n",
    "        dp[i] = dp[i - 1] + dp[i - 2]\n",
    "\n",
    "    return dp[n]\n",
    "\n",
    "n: int = 100\n",
    "print(f\"{n}th Fibonacci number: {fibonacci_tab(n=n)}\")"
   ]
  },
  {
   "cell_type": "code",
   "execution_count": null,
   "id": "f6eaa28a",
   "metadata": {},
   "outputs": [
    {
     "name": "stdout",
     "output_type": "stream",
     "text": [
      "100th Fibonacci number: 354224848179261915075\n"
     ]
    }
   ],
   "source": [
    "# 3. Fibonacci with decorator for memoization\n",
    "# Time complexity: O(n)\n",
    "# Space complexity: O(n)\n",
    "\n",
    "@lru_cache(maxsize=None)\n",
    "def fibonacci_cached(n: int) -> int:\n",
    "    \"\"\"\n",
    "    Calculate the nth Fibonacci number using Python's built-in caching.\n",
    "\n",
    "    Args:\n",
    "        n: The position in the Fibonacci sequence\n",
    "\n",
    "    Returns:\n",
    "        The nth Fibonacci number\n",
    "    \"\"\"\n",
    "    if n <= 1:\n",
    "        return n\n",
    "    return fibonacci_cached(n - 1) + fibonacci_cached(n - 2)\n",
    "\n",
    "# Usage\n",
    "n: int = 100\n",
    "print(f\"{n}th Fibonacci number: {fibonacci_tab(n=n)}\")\n"
   ]
  },
  {
   "cell_type": "code",
   "execution_count": 20,
   "id": "894cda5e",
   "metadata": {},
   "outputs": [
    {
     "name": "stdout",
     "output_type": "stream",
     "text": [
      "100th fibonacci number: 354224848179261915075\n"
     ]
    }
   ],
   "source": [
    "# nth fibonacci number\n",
    "# Dynamic programming bottom-up approach with space optimization\n",
    "# Time complexity: O(n)\n",
    "# Space complexity: O(1)\n",
    "\n",
    "def fib(n) -> int:\n",
    "\n",
    "    a, b = 0, 1\n",
    "\n",
    "    for _ in range(n):\n",
    "        a, b = b, a + b\n",
    "\n",
    "    return a\n",
    "\n",
    "# Usage\n",
    "n: int = 100\n",
    "try:\n",
    "    result: int = fib(n=n)\n",
    "    print(f'{n}th fibonacci number: {result}')\n",
    "except ValueError as e:\n",
    "    print(e)"
   ]
  },
  {
   "cell_type": "code",
   "execution_count": null,
   "id": "e95646b9",
   "metadata": {},
   "outputs": [
    {
     "name": "stdout",
     "output_type": "stream",
     "text": [
      "Fibonacci series up to 10000: [0, 1, 1, 2, 3, 5, 8, 13, 21, 34, 55, 89, 144, 233, 377, 610, 987, 1597, 2584, 4181, 6765]\n",
      "Total item: 21\n"
     ]
    }
   ],
   "source": [
    "# Fibonacci series up to n\n",
    "# Time complexity: O(log n)\n",
    "# Space complexity: O(log n)\n",
    "\n",
    "def fib(n: int) -> list[int]:\n",
    "    \"\"\"\n",
    "    Generate a Fibonacci sequence of numbers up to a given limit.\n",
    "    \n",
    "    This function creates a list of Fibonacci numbers where each number\n",
    "    is less than the provided limit 'n'. The sequence starts with 0, 1\n",
    "    and each subsequent number is the sum of the two preceding ones.\n",
    "    \n",
    "    Args:\n",
    "        n (int): The upper limit (exclusive) for the Fibonacci numbers\n",
    "        \n",
    "    Returns:\n",
    "        list[int]: A list containing the Fibonacci sequence up to n\n",
    "    \"\"\"\n",
    "    a, b = 0, 1\n",
    "    num_lst: list[int] = []\n",
    "    \n",
    "    while a < n:\n",
    "        num_lst.append(a)\n",
    "        a, b = b, a + b\n",
    "\n",
    "    return num_lst\n",
    "\n",
    "# Usage\n",
    "n: int = 10000\n",
    "result: list[int] = fib(n=n)\n",
    "print(f'Fibonacci series up to {n}: {result}')\n",
    "print(f'Total item: {len(result)}')"
   ]
  },
  {
   "cell_type": "code",
   "execution_count": 8,
   "id": "7e133829",
   "metadata": {},
   "outputs": [
    {
     "name": "stdout",
     "output_type": "stream",
     "text": [
      "Given weights=[2, 3, 4, 5] of values=[3, 4, 5, 6] under weight capacity=5, Maximum value that can be obtained is 7\n"
     ]
    }
   ],
   "source": [
    "# 4. Knapsack problem (0/1)\n",
    "def knapsack(weights: list[int], values: list[int], capacity: int) -> int:\n",
    "    \"\"\"\n",
    "    Solve the 0/1 knapsack problem using dynamic programming.\n",
    "    Given a set of items, each with a weight and value, and a maximum weight capacity, \n",
    "    find the maximum value that can be obtained.\n",
    "\n",
    "    Args:\n",
    "        weights: List of item weights\n",
    "        values: List of item values\n",
    "        capacity: Maximum weight capacity of the knapsack\n",
    "\n",
    "    Returns:\n",
    "        Maximum value that can be obtained\n",
    "    \"\"\"\n",
    "\n",
    "    # Number of items\n",
    "    n: int = len(weights)\n",
    "    # Dynamic programming table initialize\n",
    "    dp: list[list[int]] = [[0 for _ in range(capacity + 1)] for _ in range(n + 1)]\n",
    "\n",
    "    for i in range(1, n + 1):\n",
    "        for w in range(1, capacity + 1):\n",
    "            if weights[i - 1] <= w:\n",
    "                dp[i][w] = max(\n",
    "                    values[i - 1] + dp[i - 1][w - weights[i - 1]], dp[i - 1][w]\n",
    "                )\n",
    "            else:\n",
    "                dp[i][w] = dp[i - 1][w]\n",
    "\n",
    "    return dp[n][capacity]\n",
    "\n",
    "# Usage\n",
    "weights: list[int] = [2, 3, 4, 5]\n",
    "values: list[int] = [3, 4, 5, 6]\n",
    "capacity = 5\n",
    "max_value: int = knapsack(weights=weights, values=values, capacity=capacity)\n",
    "print(f\"Given {weights=} of {values=} under weight {capacity=}, Maximum value that can be obtained is {max_value}\")\n"
   ]
  },
  {
   "cell_type": "code",
   "execution_count": null,
   "id": "af58414c",
   "metadata": {},
   "outputs": [
    {
     "name": "stdout",
     "output_type": "stream",
     "text": [
      "LCS of 'abcde' and 'ace': 3\n"
     ]
    }
   ],
   "source": [
    "# 5. Longest Common Subsequence\n",
    "def longest_common_subsequence(text1: str, text2: str) -> int:\n",
    "    \"\"\"\n",
    "    Find the length of the longest common subsequence between two strings.\n",
    "\n",
    "    Args: \n",
    "        text1: First string\n",
    "        text2: Second string\n",
    "\n",
    "    Returns:\n",
    "        Length of the longest common subsequence\n",
    "    \"\"\"\n",
    "    m, n = len(text1), len(text2)\n",
    "    dp = [[0 for _ in range(n + 1)] for _ in range(m + 1)]\n",
    "\n",
    "    for i in range(1, m + 1):\n",
    "        for j in range(1, n + 1):\n",
    "            if text1[i - 1] == text2[j - 1]:\n",
    "                dp[i][j] = dp[i - 1][j - 1] + 1\n",
    "            else:\n",
    "                dp[i][j] = max(dp[i - 1][j], dp[i][j - 1])\n",
    "\n",
    "    return dp[m][n]\n",
    "\n",
    "# Usage\n",
    "print(f\"LCS of 'abcde' and 'ace': {longest_common_subsequence('abcde', 'ace')}\")"
   ]
  },
  {
   "cell_type": "code",
   "execution_count": 23,
   "id": "73651865",
   "metadata": {},
   "outputs": [
    {
     "name": "stdout",
     "output_type": "stream",
     "text": [
      "Coin change [1,2,5] for amount 11: 3\n"
     ]
    }
   ],
   "source": [
    "# 6. Coin Change Problem\n",
    "def coin_change(coins: List[int], amount: int) -> int:\n",
    "    \"\"\"\n",
    "    Find the minimum number of coins needed to make up the given amount.\n",
    "\n",
    "    Args:\n",
    "        coins: List of coin denominations\n",
    "        amount: Target amount\n",
    "\n",
    "    Returns:\n",
    "        Minimum number of coins needed or -1 if not possible\n",
    "    \"\"\"\n",
    "    # Initialize dp array with amount+1 (which is greater than any possible result)\n",
    "    dp = [amount + 1] * (amount + 1)\n",
    "    dp[0] = 0\n",
    "\n",
    "    for coin in coins:\n",
    "        for x in range(coin, amount + 1):\n",
    "            dp[x] = min(dp[x], dp[x - coin] + 1)\n",
    "\n",
    "    return dp[amount] if dp[amount] != amount + 1 else -1\n",
    "\n",
    "# Usage\n",
    "print(f\"Coin change [1,2,5] for amount 11: {coin_change([1, 2, 5], 11)}\")"
   ]
  },
  {
   "cell_type": "code",
   "execution_count": 24,
   "id": "7bf49e45",
   "metadata": {},
   "outputs": [
    {
     "name": "stdout",
     "output_type": "stream",
     "text": [
      "LIS of [10,9,2,5,3,7,101,18]: 4\n"
     ]
    }
   ],
   "source": [
    "# 7. Longest Increasing Subsequence\n",
    "def longest_increasing_subsequence(nums: List[int]) -> int:\n",
    "    \"\"\"\n",
    "    Find the length of the longest strictly increasing subsequence.\n",
    "\n",
    "    Args:\n",
    "        nums: List of integers\n",
    "\n",
    "    Returns:\n",
    "        Length of the longest increasing subsequence\n",
    "    \"\"\"\n",
    "    if not nums:\n",
    "        return 0\n",
    "\n",
    "    n = len(nums)\n",
    "    dp = [1] * n\n",
    "\n",
    "    for i in range(1, n):\n",
    "        for j in range(i):\n",
    "            if nums[i] > nums[j]:\n",
    "                dp[i] = max(dp[i], dp[j] + 1)\n",
    "\n",
    "    return max(dp)\n",
    "\n",
    "# Usage\n",
    "print(\n",
    "    f\"LIS of [10,9,2,5,3,7,101,18]: {longest_increasing_subsequence([10,9,2,5,3,7,101,18])}\"\n",
    ")\n"
   ]
  },
  {
   "cell_type": "code",
   "execution_count": 25,
   "id": "95d0dbfb",
   "metadata": {},
   "outputs": [
    {
     "name": "stdout",
     "output_type": "stream",
     "text": [
      "Edit distance from 'horse' to 'ros': 3\n"
     ]
    }
   ],
   "source": [
    "# 8. Edit Distance\n",
    "def edit_distance(word1: str, word2: str) -> int:\n",
    "    \"\"\"\n",
    "    Calculate the minimum number of operations to convert word1 to word2.\n",
    "    Operations: insert, delete, replace\n",
    "\n",
    "    Args:\n",
    "        word1: First string\n",
    "        word2: Second string\n",
    "\n",
    "    Returns:\n",
    "        Minimum number of operations required\n",
    "    \"\"\"\n",
    "    m, n = len(word1), len(word2)\n",
    "    dp = [[0 for _ in range(n + 1)] for _ in range(m + 1)]\n",
    "\n",
    "    # Base cases\n",
    "    for i in range(m + 1):\n",
    "        dp[i][0] = i\n",
    "    for j in range(n + 1):\n",
    "        dp[0][j] = j\n",
    "\n",
    "    for i in range(1, m + 1):\n",
    "        for j in range(1, n + 1):\n",
    "            if word1[i - 1] == word2[j - 1]:\n",
    "                dp[i][j] = dp[i - 1][j - 1]\n",
    "            else:\n",
    "                dp[i][j] = 1 + min(\n",
    "                    dp[i - 1][j],  # Delete\n",
    "                    dp[i][j - 1],  # Insert\n",
    "                    dp[i - 1][j - 1],  # Replace\n",
    "                )\n",
    "\n",
    "    return dp[m][n]\n",
    "\n",
    "# Usage\n",
    "print(f\"Edit distance from 'horse' to 'ros': {edit_distance('horse', 'ros')}\")"
   ]
  }
 ],
 "metadata": {
  "kernelspec": {
   "display_name": ".venv",
   "language": "python",
   "name": "python3"
  },
  "language_info": {
   "codemirror_mode": {
    "name": "ipython",
    "version": 3
   },
   "file_extension": ".py",
   "mimetype": "text/x-python",
   "name": "python",
   "nbconvert_exporter": "python",
   "pygments_lexer": "ipython3",
   "version": "3.12.8"
  }
 },
 "nbformat": 4,
 "nbformat_minor": 5
}
