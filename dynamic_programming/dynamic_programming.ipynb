{
 "cells": [
  {
   "cell_type": "code",
   "execution_count": 7,
   "id": "6f72c610",
   "metadata": {},
   "outputs": [
    {
     "data": {
      "text/plain": [
       "'\\nDynamic Programming\\nThis module contains implementations of common dynamic programming problems.\\n'"
      ]
     },
     "execution_count": 7,
     "metadata": {},
     "output_type": "execute_result"
    }
   ],
   "source": [
    "\"\"\"\n",
    "Dynamic Programming\n",
    "This module contains implementations of common dynamic programming problems.\n",
    "\"\"\""
   ]
  },
  {
   "cell_type": "code",
   "execution_count": 8,
   "id": "925a75e1",
   "metadata": {},
   "outputs": [
    {
     "name": "stdout",
     "output_type": "stream",
     "text": [
      "100th Fibonacci number : 354224848179261915075\n"
     ]
    }
   ],
   "source": [
    "# 1. Fibonacci with memoization (top-down approach)\n",
    "\n",
    "def fibonacci_memo(n: int, memo: dict[int, int] | None= None) -> int:\n",
    "    \"\"\"\n",
    "    Calculate the nth Fibonacci number using memoization.\n",
    "\n",
    "    Args:\n",
    "        n: The position in the Fibonacci sequence\n",
    "        memo: Dictionary to store previously calculated values\n",
    "\n",
    "    Returns:\n",
    "        The nth Fibonacci number\n",
    "    \"\"\"\n",
    "    if memo is None:\n",
    "        memo = {}\n",
    "\n",
    "    if n in memo:\n",
    "        return memo[n]\n",
    "\n",
    "    if n <= 1:\n",
    "        return n\n",
    "\n",
    "    memo[n] = fibonacci_memo(n=n - 1, memo=memo) + fibonacci_memo(n=n - 2, memo=memo)\n",
    "    return memo[n]\n",
    "\n",
    "n: int = 100\n",
    "print(f\"{n}th Fibonacci number : {fibonacci_memo(n=n)}\")"
   ]
  },
  {
   "cell_type": "code",
   "execution_count": 9,
   "id": "f76f7e83",
   "metadata": {},
   "outputs": [
    {
     "name": "stdout",
     "output_type": "stream",
     "text": [
      "100th Fibonacci number: 354224848179261915075\n"
     ]
    }
   ],
   "source": [
    "# 2. Fibonacci with tabulation (bottom-up approach)\n",
    "\n",
    "def fibonacci_tab(n: int) -> int:\n",
    "    \"\"\"\n",
    "    Calculate the nth Fibonacci number using tabulation.\n",
    "\n",
    "    Args:\n",
    "        n: The position in the Fibonacci sequence\n",
    "\n",
    "    Returns:\n",
    "        The nth Fibonacci number\n",
    "    \"\"\"\n",
    "    if n <= 1:\n",
    "        return n\n",
    "\n",
    "    dp = [0] * (n + 1)\n",
    "    dp[1] = 1\n",
    "\n",
    "    for i in range(2, n + 1):\n",
    "        dp[i] = dp[i - 1] + dp[i - 2]\n",
    "\n",
    "    return dp[n]\n",
    "\n",
    "n: int = 100\n",
    "print(f\"{n}th Fibonacci number: {fibonacci_tab(n=n)}\")"
   ]
  },
  {
   "cell_type": "code",
   "execution_count": 10,
   "id": "f6eaa28a",
   "metadata": {},
   "outputs": [
    {
     "name": "stdout",
     "output_type": "stream",
     "text": [
      "100th Fibonacci number: 354224848179261915075\n"
     ]
    }
   ],
   "source": [
    "# 3. Fibonacci with decorator for memoization\n",
    "\n",
    "from functools import lru_cache\n",
    "\n",
    "@lru_cache(maxsize=None)\n",
    "def fibonacci_cached(n: int) -> int:\n",
    "    \"\"\"\n",
    "    Calculate the nth Fibonacci number using Python's built-in caching.\n",
    "\n",
    "    Args:\n",
    "        n: The position in the Fibonacci sequence\n",
    "\n",
    "    Returns:\n",
    "        The nth Fibonacci number\n",
    "    \"\"\"\n",
    "    if n <= 1:\n",
    "        return n\n",
    "    return fibonacci_cached(n - 1) + fibonacci_cached(n - 2)\n",
    "\n",
    "# Usage\n",
    "n: int = 100\n",
    "print(f\"{n}th Fibonacci number: {fibonacci_tab(n=n)}\")\n"
   ]
  },
  {
   "cell_type": "code",
   "execution_count": 11,
   "id": "894cda5e",
   "metadata": {},
   "outputs": [
    {
     "name": "stdout",
     "output_type": "stream",
     "text": [
      "100th fibonacci number: 354224848179261915075\n"
     ]
    }
   ],
   "source": [
    "# 4. nth fibonacci number\n",
    "# Dynamic programming bottom-up approach with space optimization\n",
    "\n",
    "def fib(n) -> int:\n",
    "    \"\"\"\n",
    "    Calculate the nth Fibonacci number using dynamic programming bottom-up approach with space optimization.\n",
    "\n",
    "    Args:\n",
    "        n: The position in the Fibonacci sequence\n",
    "\n",
    "    Returns:\n",
    "        The nth Fibonacci number\n",
    "    \"\"\"\n",
    "    a, b = 0, 1\n",
    "\n",
    "    for _ in range(n):\n",
    "        a, b = b, a + b\n",
    "\n",
    "    return a\n",
    "\n",
    "# Usage\n",
    "n: int = 100\n",
    "try:\n",
    "    result: int = fib(n=n)\n",
    "    print(f'{n}th fibonacci number: {result}')\n",
    "except ValueError as e:\n",
    "    print(e)"
   ]
  },
  {
   "cell_type": "code",
   "execution_count": 12,
   "id": "e95646b9",
   "metadata": {},
   "outputs": [
    {
     "name": "stdout",
     "output_type": "stream",
     "text": [
      "Fibonacci series up to 10000: [0, 1, 1, 2, 3, 5, 8, 13, 21, 34, 55, 89, 144, 233, 377, 610, 987, 1597, 2584, 4181, 6765]\n",
      "Total item: 21\n"
     ]
    }
   ],
   "source": [
    "# 5. Fibonacci series up to n\n",
    "\n",
    "def fib(n: int) -> list[int]:\n",
    "    \"\"\"\n",
    "    Generate a Fibonacci sequence of numbers up to a given limit.\n",
    "    \n",
    "    This function creates a list of Fibonacci numbers where each number\n",
    "    is less than the provided limit 'n'. The sequence starts with 0, 1\n",
    "    and each subsequent number is the sum of the two preceding ones.\n",
    "    \n",
    "    Args:\n",
    "        n (int): The upper limit (exclusive) for the Fibonacci numbers\n",
    "        \n",
    "    Returns:\n",
    "        list[int]: A list containing the Fibonacci sequence up to n\n",
    "    \"\"\"\n",
    "    a, b = 0, 1\n",
    "    num_lst: list[int] = []\n",
    "    \n",
    "    while a < n:\n",
    "        num_lst.append(a)\n",
    "        a, b = b, a + b\n",
    "\n",
    "    return num_lst\n",
    "\n",
    "# Usage\n",
    "n: int = 10000\n",
    "result: list[int] = fib(n=n)\n",
    "print(f'Fibonacci series up to {n}: {result}')\n",
    "print(f'Total item: {len(result)}')"
   ]
  },
  {
   "cell_type": "code",
   "execution_count": 13,
   "id": "7e133829",
   "metadata": {},
   "outputs": [
    {
     "name": "stdout",
     "output_type": "stream",
     "text": [
      "\n",
      "    Knapsack Problem Summary:\n",
      "    Given a set of items each with a weight and value, and a maximum weight capacity.\n",
      "    weights: [2, 3, 4, 5]\n",
      "    values: [3, 4, 5, 6]\n",
      "    capacity: 5\n",
      "\n",
      "    Maximum value: 7 obtained with selected items(weight, value): [(3, 4), (2, 3)]\n",
      "    \n"
     ]
    }
   ],
   "source": [
    "# 6. Knapsack problem (0/1)\n",
    "\n",
    "from typing import Any\n",
    "\n",
    "def knapsack(weights: list[int], values: list[int], capacity: int) -> tuple[int, list[tuple[int, int]]]:\n",
    "    \"\"\"\n",
    "    Solve the 0/1 knapsack problem using dynamic programming.\n",
    "    Given a set of items, each with a weight and value, and a maximum weight capacity, \n",
    "    find the maximum value that can be obtained.\n",
    "\n",
    "    Args:\n",
    "        weights: List of item weights\n",
    "        values: List of item values\n",
    "        capacity: Maximum weight capacity of the knapsack\n",
    "\n",
    "    Returns:\n",
    "        Maximum value that can be obtained within the capacity limit and the list of selected items\n",
    "    \"\"\"\n",
    "\n",
    "    # Number of items\n",
    "    n: int = len(weights)\n",
    "    # Dynamic programming table initialize\n",
    "    dp: list[list[int]] = [[0 for _ in range(capacity + 1)] for _ in range(n + 1)]\n",
    "\n",
    "    for i in range(1, n + 1):\n",
    "        for c in range(1, capacity + 1):\n",
    "            if weights[i - 1] <= c:\n",
    "                dp[i][c] = max(\n",
    "                    values[i - 1] + dp[i - 1][c - weights[i - 1]], dp[i - 1][c]\n",
    "                )\n",
    "            else:\n",
    "                dp[i][c] = dp[i - 1][c]\n",
    "\n",
    "    # Traceback to find selected items\n",
    "    selected_items: list[tuple[int, int]] = []\n",
    "    c: int = capacity\n",
    "    for i in range(n, 0, -1):\n",
    "        if dp[i][c] != dp[i-1][c]:  # Item was included\n",
    "            selected_items.append((weights[i-1], values[i-1]))  # Store weight and value\n",
    "            c -= weights[i-1]\n",
    "\n",
    "    return dp[n][capacity], selected_items\n",
    "\n",
    "\n",
    "# Usage\n",
    "weights: list[int] = [2, 3, 4, 5]\n",
    "values: list[int] = [3, 4, 5, 6]\n",
    "capacity = 5\n",
    "max_value, selected_items = knapsack(weights=weights, values=values, capacity=capacity)\n",
    "\n",
    "output: str = \"\"\"\n",
    "    Knapsack Problem Summary:\n",
    "    Given a set of items each with a weight and value, and a maximum weight capacity.\n",
    "    weights: {weights}\n",
    "    values: {values}\n",
    "    capacity: {capacity}\n",
    "\n",
    "    Maximum value: {max_value} obtained with selected items(weight, value): {selected_items}\n",
    "    \"\"\".format(weights=weights, values=values, capacity=capacity, selected_items=selected_items, max_value=max_value)\n",
    "\n",
    "# Output\n",
    "print(output)"
   ]
  },
  {
   "cell_type": "code",
   "execution_count": 14,
   "id": "af58414c",
   "metadata": {},
   "outputs": [
    {
     "name": "stdout",
     "output_type": "stream",
     "text": [
      "Longest Common Sequence of 'abcd' and 'ace': ac (Length: 2)\n"
     ]
    }
   ],
   "source": [
    "# 7. Longest Common Subsequence\n",
    "\n",
    "def longest_common_subsequence(text1: str, text2: str) -> tuple[str, int]:\n",
    "    \"\"\"\n",
    "    Find the longest common subsequence between two strings and its length.\n",
    "\n",
    "    Args: \n",
    "        text1: First string\n",
    "        text2: Second string\n",
    "\n",
    "    Returns:\n",
    "        Longest common subsequence with its length\n",
    "    \"\"\"\n",
    "\n",
    "    # Initialize sequence\n",
    "    sequence: str = \"\"\n",
    "\n",
    "    # Initialize dp array\n",
    "    m, n = len(text1), len(text2)\n",
    "    dp: list[list[int]] = [[0 for _ in range(n + 1)] for _ in range(m + 1)]\n",
    "\n",
    "    for i in range(1, m + 1):\n",
    "        for j in range(1, n + 1):\n",
    "            if text1[i - 1] == text2[j - 1]:\n",
    "                dp[i][j] = dp[i - 1][j - 1] + 1\n",
    "                sequence += text1[i - 1]\n",
    "            else:\n",
    "                dp[i][j] = max(dp[i - 1][j], dp[i][j - 1])\n",
    "\n",
    "    return sequence, dp[m][n]\n",
    "\n",
    "# Usage\n",
    "sequence, length = longest_common_subsequence(text1=\"abcd\", text2=\"ace\")\n",
    "print(f\"Longest Common Sequence of 'abcd' and 'ace': {sequence} (Length: {length})\")"
   ]
  },
  {
   "cell_type": "code",
   "execution_count": 15,
   "id": "73651865",
   "metadata": {},
   "outputs": [
    {
     "name": "stdout",
     "output_type": "stream",
     "text": [
      "Minimum coins needed: 3\n",
      "Coins used: [5, 5, 1]\n"
     ]
    }
   ],
   "source": [
    "# 8. Coin Change Problem\n",
    "\n",
    "def coin_change_with_combo(coins: list[int], amount: int) -> tuple[int, list[int]]:\n",
    "    \"\"\"\n",
    "    Find the minimum number of coins needed and the coin combination to make up the given amount.\n",
    "\n",
    "    Args:\n",
    "        coins: List of coin denominations\n",
    "        amount: Target amount\n",
    "\n",
    "    Returns:\n",
    "        Tuple:\n",
    "        - Minimum number of coins needed or -1 if not possible\n",
    "        - List of coins used in the optimal solution\n",
    "    \"\"\"\n",
    "\n",
    "    # Initialize dp array with given amount\n",
    "    dp: list[int] = [amount + 1] * (amount + 1)\n",
    "    dp[0] = 0\n",
    "\n",
    "    # Track coins used to reconstruct the solution\n",
    "    coin_used: list[int] = [-1] * (amount + 1)\n",
    "\n",
    "    # Minimum number of coins needed\n",
    "    for coin in coins:\n",
    "        for x in range(coin, amount + 1):\n",
    "            if dp[x - coin] + 1 < dp[x]:\n",
    "                dp[x] = dp[x - coin] + 1\n",
    "                coin_used[x] = coin  # Store the coin used\n",
    "\n",
    "    # No valid solution\n",
    "    if dp[amount] == amount + 1:\n",
    "        return -1, []\n",
    "\n",
    "    # Reconstruct the coins used\n",
    "    result: list[int] = []\n",
    "    current_amount: int = amount\n",
    "    while current_amount > 0:\n",
    "        coin: int = coin_used[current_amount]\n",
    "        if coin == -1:\n",
    "            break\n",
    "        result.append(coin)\n",
    "        current_amount -= coin\n",
    "\n",
    "    return dp[amount], result\n",
    "\n",
    "# Usage\n",
    "min_coins, combination = coin_change_with_combo(coins=[1, 2, 5], amount=11)\n",
    "print(f\"Minimum coins needed: {min_coins}\")\n",
    "print(f\"Coins used: {combination}\")"
   ]
  },
  {
   "cell_type": "code",
   "execution_count": 16,
   "id": "4be0f350",
   "metadata": {},
   "outputs": [],
   "source": [
    "# This will remove all user-defined variables (except for built-ins) on Jupyter Variables View\n",
    "for name in dir():\n",
    "    if not name.startswith('_'):\n",
    "        del globals()[name]\n",
    "\n",
    "# Restart the kernel to clear all variables\n",
    "# ctrl+shift+.\n",
    "# alt+del clear the cell output content."
   ]
  }
 ],
 "metadata": {
  "kernelspec": {
   "display_name": ".venv",
   "language": "python",
   "name": "python3"
  },
  "language_info": {
   "codemirror_mode": {
    "name": "ipython",
    "version": 3
   },
   "file_extension": ".py",
   "mimetype": "text/x-python",
   "name": "python",
   "nbconvert_exporter": "python",
   "pygments_lexer": "ipython3",
   "version": "3.12.8"
  }
 },
 "nbformat": 4,
 "nbformat_minor": 5
}
