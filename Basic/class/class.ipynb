{
 "cells": [
  {
   "cell_type": "code",
   "execution_count": 22,
   "metadata": {},
   "outputs": [
    {
     "name": "stdout",
     "output_type": "stream",
     "text": [
      "Ford Mustang Move!\n",
      "Vehicle(brand=Ford, model=Mustang, action=Move!)\n",
      "Ibiza Touring 20 Sail!\n",
      "Vehicle(brand=Ibiza, model=Touring 20, action=Sail!)\n",
      "Boeing 747 Fly!\n",
      "Vehicle(brand=Boeing, model=747, action=Fly!)\n"
     ]
    }
   ],
   "source": [
    "\n",
    "# Class Inheritance Polymorphism\n",
    "\n",
    "class Vehicle:\n",
    "    \n",
    "    def __init__(self, brand: str, model: str) -> None:\n",
    "        self.brand: str = brand\n",
    "        self.model: str = model\n",
    "    \n",
    "    def __str__(self) -> str:\n",
    "        return f'{self.brand} {self.model} {self.action()}'\n",
    "    \n",
    "    def __repr__(self) -> str:\n",
    "        return f'Vehicle(brand={self.brand}, model={self.model}, action={self.action()})'\n",
    "\n",
    "    def action(self)-> str:\n",
    "        return f'Move!'\n",
    "\n",
    "\n",
    "class Car(Vehicle):\n",
    "    \n",
    "    def __init__(self, brand: str, model: str) -> None:\n",
    "        super().__init__(brand=brand, model=model)\n",
    "\n",
    "    # def action(self) -> str:\n",
    "    #     return f'Drive!'\n",
    "\n",
    "    def action(self) -> str:\n",
    "        return super().action()\n",
    "\n",
    "\n",
    "class Boat(Vehicle):\n",
    "    \n",
    "    def __init__(self, brand: str, model: str) -> None:\n",
    "        super().__init__(brand=brand, model=model)\n",
    "    \n",
    "    def action(self) -> str:\n",
    "        return f'Sail!'\n",
    "\n",
    "\n",
    "class Plane(Vehicle):\n",
    "    \n",
    "    def __init__(self, brand: str, model: str) -> None:\n",
    "        super().__init__(brand=brand, model=model)\n",
    "\n",
    "    def action(self) -> str:\n",
    "        return f'Fly!'\n",
    "\n",
    "\n",
    "car = Car(brand=\"Ford\", model=\"Mustang\")\n",
    "boat = Boat(brand=\"Ibiza\", model=\"Touring 20\")\n",
    "plane = Plane(brand=\"Boeing\", model=\"747\")\n",
    "\n",
    "for vehicle in (car, boat, plane):\n",
    "    print(str(object=vehicle))\n",
    "    print(repr(vehicle))"
   ]
  },
  {
   "cell_type": "code",
   "execution_count": 25,
   "metadata": {},
   "outputs": [
    {
     "name": "stdout",
     "output_type": "stream",
     "text": [
      "Fido Canine\n",
      "Dog(name=Fido kind=Canine)\n",
      "Buddy Canine\n",
      "Dog(name=Buddy kind=Canine)\n"
     ]
    }
   ],
   "source": [
    "# Class and Instance Variables\n",
    "\n",
    "class Dog:\n",
    "    \n",
    "    kind: str = \"Canine\" # class variable share by all instances\n",
    "\n",
    "    def __init__(self, name:str) -> None:\n",
    "        self.name:str = name # instance variable unique to each instance\n",
    "\n",
    "    def __str__(self) -> str:\n",
    "        return f'{self.name} {self.kind}'\n",
    "    \n",
    "    def __repr__(self) -> str:\n",
    "        return f'Dog(name={self.name} kind={self.kind})'\n",
    "\n",
    "\n",
    "dog1 = Dog(name=\"Fido\")\n",
    "dog2 = Dog(name=\"Buddy\")\n",
    "\n",
    "print(str(object=dog1))\n",
    "print(repr(dog1))\n",
    "print(str(object=dog2))\n",
    "print(repr(dog2))"
   ]
  },
  {
   "cell_type": "code",
   "execution_count": 27,
   "metadata": {},
   "outputs": [
    {
     "name": "stdout",
     "output_type": "stream",
     "text": [
      "Fido ['roll over']\n",
      "Dog(name=Fido tricks=['roll over'])\n",
      "Buddy ['play dead']\n",
      "Dog(name=Buddy tricks=['play dead'])\n"
     ]
    }
   ],
   "source": [
    "class Dog:\n",
    "\n",
    "    #tricks:list[str] = [] # mistake use of class variable\n",
    "\n",
    "    def __init__(self, name:str) -> None:\n",
    "        self.name:str = name\n",
    "        self.tricks:list[str] = [] # correct use of instance variable for each instance\n",
    "\n",
    "    def __str__(self) -> str:\n",
    "        return f'{self.name} {self.tricks}'\n",
    "    \n",
    "    def __repr__(self) -> str:\n",
    "        return f'Dog(name={self.name} tricks={self.tricks})'\n",
    "    \n",
    "    def add_trick(self, trick) -> None:\n",
    "        self.tricks.append(trick)\n",
    "\n",
    "dog1 = Dog(name=\"Fido\")\n",
    "dog1.add_trick(trick=\"roll over\")\n",
    "print(str(object=dog1))\n",
    "print(repr(dog1))\n",
    "\n",
    "dog2 = Dog(name=\"Buddy\")\n",
    "dog2.add_trick(trick=\"play dead\")\n",
    "print(str(object=dog2))\n",
    "print(repr(dog2))"
   ]
  }
 ],
 "metadata": {
  "kernelspec": {
   "display_name": ".venv",
   "language": "python",
   "name": "python3"
  },
  "language_info": {
   "codemirror_mode": {
    "name": "ipython",
    "version": 3
   },
   "file_extension": ".py",
   "mimetype": "text/x-python",
   "name": "python",
   "nbconvert_exporter": "python",
   "pygments_lexer": "ipython3",
   "version": "3.12.8"
  }
 },
 "nbformat": 4,
 "nbformat_minor": 2
}
