{
 "cells": [
  {
   "cell_type": "code",
   "execution_count": 2,
   "metadata": {},
   "outputs": [
    {
     "name": "stdout",
     "output_type": "stream",
     "text": [
      "7.25\n",
      "5.830951894845301\n"
     ]
    }
   ],
   "source": [
    "# abs() \n",
    "# returns the absolute value of a number. \n",
    "# The argument may be an integer or a floating point number. \n",
    "# If the argument is a complex number, its magnitude is returned.\n",
    "\n",
    "# return the absolute value of a number\n",
    "num = abs(-7.25)\n",
    "print(num)\n",
    "\n",
    "# return the absolute value of a complex number\n",
    "num = abs(3 +5j)\n",
    "print(num)"
   ]
  },
  {
   "cell_type": "code",
   "execution_count": 19,
   "metadata": {},
   "outputs": [
    {
     "name": "stdout",
     "output_type": "stream",
     "text": [
      "True\n",
      "False\n",
      "True\n",
      "False\n",
      "True\n",
      "False\n",
      "True\n",
      "False\n"
     ]
    }
   ],
   "source": [
    "# all()\tReturns True if all items in an iterable object are true\n",
    "\n",
    "true_list: list[bool] = [True, True, True]\n",
    "print(all(true_list))\n",
    "\n",
    "false_list: list[int] = [1, 0, 1]\n",
    "print(all(false_list))\n",
    "\n",
    "true_tuple = (1, 1, 1)\n",
    "print(all(true_tuple))\n",
    "\n",
    "false_tuple = (True, False, True)\n",
    "print(all(false_tuple))\n",
    "\n",
    "true_set: set[int] = {1, 1, 1}\n",
    "print(all(true_set))\n",
    "\n",
    "false_set: set[int] = {True, False, True}\n",
    "print(all(false_set))\n",
    "\n",
    "# all() function checks if key in dictionary is True\n",
    "true_dict: dict[str, bool] = {\"a\": True, \"b\": False}\n",
    "print(all(true_dict))\n",
    "\n",
    "false_dict:dict[int, str] = {0: \"a\", 1: \"b\"} # 0 is False\n",
    "print(all(false_dict))\n",
    "\n",
    "# Equivalent to:\n",
    "def all(iterable) -> bool:\n",
    "    for element in iterable:\n",
    "        if not element:\n",
    "            return False\n",
    "    return True"
   ]
  },
  {
   "cell_type": "code",
   "execution_count": 27,
   "metadata": {},
   "outputs": [
    {
     "name": "stdout",
     "output_type": "stream",
     "text": [
      "False\n",
      "True\n",
      "True\n",
      "True\n",
      "True\n"
     ]
    }
   ],
   "source": [
    "# any()\tReturns True if any item in an iterable object is true\n",
    "\n",
    "print(any([])) # if iterable is empty, return false\n",
    "\n",
    "mylist: list[int] = [1, 0, 1]\n",
    "print(any(mylist))\n",
    "\n",
    "mytuple = (1, 1, 0)\n",
    "print(any(mytuple))\n",
    "\n",
    "myset: set[int] = {0, 0, 1}\n",
    "print(any(myset))\n",
    "\n",
    "false_dict:dict[int, str] = {0: \"a\", 1: \"b\"} # 0 is False\n",
    "print(any(false_dict))\n",
    "\n",
    "\n",
    "# Equivalent to:\n",
    "def any(iterable) -> bool:\n",
    "    for element in iterable:\n",
    "        if element:\n",
    "            return True\n",
    "    return False"
   ]
  },
  {
   "cell_type": "code",
   "execution_count": 36,
   "metadata": {},
   "outputs": [
    {
     "name": "stdout",
     "output_type": "stream",
     "text": [
      "apple\n",
      "banana\n",
      "cherry\n",
      "['__iter__', '__next__', '__length_hint__', '__reduce__', '__setstate__', '__doc__', '__new__', '__repr__', '__hash__', '__str__', '__getattribute__', '__setattr__', '__delattr__', '__lt__', '__le__', '__eq__', '__ne__', '__gt__', '__ge__', '__init__', '__reduce_ex__', '__getstate__', '__subclasshook__', '__init_subclass__', '__format__', '__sizeof__', '__dir__', '__class__']\n"
     ]
    }
   ],
   "source": [
    "# iter() Returns an iterator object\n",
    "\n",
    "x = iter([\"apple\", \"banana\", \"cherry\"])\n",
    "print(next(x))\n",
    "print(next(x))\n",
    "print(next(x))\n",
    "print(x.__dir__())"
   ]
  },
  {
   "cell_type": "code",
   "execution_count": 39,
   "metadata": {},
   "outputs": [
    {
     "name": "stdout",
     "output_type": "stream",
     "text": [
      "True\n",
      "False\n"
     ]
    }
   ],
   "source": [
    "# callable()\tReturns True if the specified object is callable, otherwise False.\n",
    "\n",
    "def func() -> None:\n",
    "    a = 5\n",
    "\n",
    "print(callable(func))\n",
    "\n",
    "x:int = 5\n",
    "print(callable(x))"
   ]
  }
 ],
 "metadata": {
  "kernelspec": {
   "display_name": ".venv",
   "language": "python",
   "name": "python3"
  },
  "language_info": {
   "codemirror_mode": {
    "name": "ipython",
    "version": 3
   },
   "file_extension": ".py",
   "mimetype": "text/x-python",
   "name": "python",
   "nbconvert_exporter": "python",
   "pygments_lexer": "ipython3",
   "version": "3.12.8"
  }
 },
 "nbformat": 4,
 "nbformat_minor": 2
}
