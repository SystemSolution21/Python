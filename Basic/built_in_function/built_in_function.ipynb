{
 "cells": [
  {
   "cell_type": "code",
   "execution_count": 10,
   "metadata": {},
   "outputs": [
    {
     "name": "stdout",
     "output_type": "stream",
     "text": [
      "num = 7.25\n",
      "num = 5.830951894845301\n"
     ]
    }
   ],
   "source": [
    "# abs() \n",
    "# returns the absolute value of a number. \n",
    "# The argument may be an integer or a floating point number. \n",
    "# If the argument is a complex number, its magnitude is returned.\n",
    "\n",
    "# return the absolute value of a number\n",
    "num: float = abs(-7.25)\n",
    "print(f'{num = }')\n",
    "\n",
    "# return the absolute value of a complex number\n",
    "num: float = abs(3 +5j)\n",
    "print(f'{num = }')"
   ]
  },
  {
   "cell_type": "code",
   "execution_count": 19,
   "metadata": {},
   "outputs": [
    {
     "name": "stdout",
     "output_type": "stream",
     "text": [
      "True\n",
      "False\n",
      "True\n",
      "False\n",
      "True\n",
      "False\n",
      "True\n",
      "False\n"
     ]
    }
   ],
   "source": [
    "# all()\tReturns True if all items in an iterable object are true\n",
    "\n",
    "true_list: list[bool] = [True, True, True]\n",
    "print(all(true_list))\n",
    "\n",
    "false_list: list[int] = [1, 0, 1]\n",
    "print(all(false_list))\n",
    "\n",
    "true_tuple = (1, 1, 1)\n",
    "print(all(true_tuple))\n",
    "\n",
    "false_tuple = (True, False, True)\n",
    "print(all(false_tuple))\n",
    "\n",
    "true_set: set[int] = {1, 1, 1}\n",
    "print(all(true_set))\n",
    "\n",
    "false_set: set[int] = {True, False, True}\n",
    "print(all(false_set))\n",
    "\n",
    "# all() function checks if key in dictionary is True\n",
    "true_dict: dict[str, bool] = {\"a\": True, \"b\": False}\n",
    "print(all(true_dict))\n",
    "\n",
    "false_dict:dict[int, str] = {0: \"a\", 1: \"b\"} # 0 is False\n",
    "print(all(false_dict))\n",
    "\n",
    "# Equivalent to:\n",
    "def all(iterable) -> bool:\n",
    "    for element in iterable:\n",
    "        if not element:\n",
    "            return False\n",
    "    return True"
   ]
  },
  {
   "cell_type": "code",
   "execution_count": 11,
   "metadata": {},
   "outputs": [
    {
     "name": "stdout",
     "output_type": "stream",
     "text": [
      "False\n",
      "True\n",
      "True\n",
      "True\n",
      "True\n"
     ]
    }
   ],
   "source": [
    "# any()\tReturns True if any item in an iterable object is true\n",
    "\n",
    "from typing import Literal\n",
    "\n",
    "\n",
    "print(any([])) # if iterable is empty, return false\n",
    "\n",
    "mylist: list[int] = [1, 0, 1]\n",
    "print(any(mylist))\n",
    "\n",
    "mytuple= (1, 1, 0)\n",
    "print(any(mytuple))\n",
    "\n",
    "myset: set[int] = {0, 0, 1}\n",
    "print(any(myset))\n",
    "\n",
    "false_dict: dict[int, str] = {0: \"a\", 1: \"b\"} # 0 is False\n",
    "print(any(false_dict))\n",
    "\n",
    "\n",
    "# Equivalent to:\n",
    "def any(iterable) -> bool:\n",
    "    for element in iterable:\n",
    "        if element:\n",
    "            return True\n",
    "    return False"
   ]
  },
  {
   "cell_type": "code",
   "execution_count": 9,
   "metadata": {},
   "outputs": [
    {
     "name": "stdout",
     "output_type": "stream",
     "text": [
      "apple\n",
      "banana\n",
      "cherry\n",
      "['__iter__', '__next__', '__length_hint__', '__reduce__', '__setstate__', '__doc__', '__new__', '__repr__', '__hash__', '__str__', '__getattribute__', '__setattr__', '__delattr__', '__lt__', '__le__', '__eq__', '__ne__', '__gt__', '__ge__', '__init__', '__reduce_ex__', '__getstate__', '__subclasshook__', '__init_subclass__', '__format__', '__sizeof__', '__dir__', '__class__']\n"
     ]
    }
   ],
   "source": [
    "# iter() Returns an iterator object\n",
    "\n",
    "from typing import Iterator\n",
    "\n",
    "\n",
    "x: Iterator[str] = iter([\"apple\", \"banana\", \"cherry\"])\n",
    "print(next(x))\n",
    "print(next(x))\n",
    "print(next(x))\n",
    "print(x.__dir__())"
   ]
  },
  {
   "cell_type": "code",
   "execution_count": 18,
   "metadata": {},
   "outputs": [
    {
     "name": "stdout",
     "output_type": "stream",
     "text": [
      "callable(func) = True\n",
      "callable(x) = False\n"
     ]
    }
   ],
   "source": [
    "# callable()\tReturns True if the specified object is callable, otherwise False.\n",
    "\n",
    "def func() -> None:\n",
    "    a = 5\n",
    "\n",
    "print(f'{callable(func) = }')\n",
    "\n",
    "x:int = 5\n",
    "print(f'{callable(x) = }')"
   ]
  },
  {
   "cell_type": "code",
   "execution_count": null,
   "metadata": {},
   "outputs": [
    {
     "name": "stdout",
     "output_type": "stream",
     "text": [
      "users = [User(name=John, is_active=True), User(name=Jane, is_active=False), User(name=Bob, is_active=True)]\n",
      "[user.name for user in active_users] = ['John', 'Bob']\n"
     ]
    }
   ],
   "source": [
    "# filter()\tUse a filter function to exclude items in an iterable object\n",
    "\n",
    "class User:\n",
    "    def __init__(self,name: str, is_active: bool) -> None:\n",
    "        self.name: str = name\n",
    "        self.is_active: bool = is_active\n",
    "\n",
    "    def __repr__(self) -> str:\n",
    "        return f'User(name={self.name}, is_active={self.is_active})'\n",
    "\n",
    "\n",
    "users: list[User] = [User(name=\"John\", is_active=True), User(name=\"Jane\", is_active=False), User(name=\"Bob\", is_active=True)]\n",
    "print(f'{users = }')\n",
    "active_users: Iterator[User]= filter(lambda user: user.is_active, users)\n",
    "print(f'{[user.name for user in active_users] = }')"
   ]
  },
  {
   "cell_type": "code",
   "execution_count": null,
   "metadata": {},
   "outputs": [
    {
     "name": "stdout",
     "output_type": "stream",
     "text": [
      "celsius = [0, 10, 20, 30, 40], convert to, fahrenheit = [32.0, 50.0, 68.0, 86.0, 104.0], using map(lambda) function\n",
      "lower_case = ['apple', 'banana', 'cherry'], convert to, upper_case = ['APPLE', 'BANANA', 'CHERRY'], using map(str.upper) function\n",
      "num_str = ['1', '2', '3'], convert to, map_str_to_int = [1, 2, 3], using map(int) function\n"
     ]
    }
   ],
   "source": [
    "# map()\tExecutes a function for each item in an iterable\n",
    "\n",
    "# 1\n",
    "celsius: list[int] = [0, 10, 20, 30, 40]\n",
    "fahrenheit: list[float] = list(map(lambda c: (c * 9/5) + 32, celsius))\n",
    "print(f'{celsius = }, convert to, {fahrenheit = }, using map(lambda) function')\n",
    "\n",
    "# 2\n",
    "lower_case: list[str] = [\"apple\", \"banana\", \"cherry\"]\n",
    "upper_case: list[str]= list(map(str.upper, lower_case))\n",
    "print(f'{lower_case = }, convert to, {upper_case = }, using map(str.upper) function')\n",
    "\n",
    "# 3\n",
    "num_str: list = [\"1\", \"2\", \"3\"]\n",
    "map_str_to_int: list[int] = list(map(int, num_str))\n",
    "print(f'{num_str = }, convert to, {map_str_to_int = }, using map(int) function')"
   ]
  },
  {
   "cell_type": "code",
   "execution_count": 42,
   "metadata": {},
   "outputs": [
    {
     "name": "stdout",
     "output_type": "stream",
     "text": [
      "num = [1, 2, 3] and name = ['a', 'b', 'c'] is zipped = [(1, 'a'), (2, 'b'), (3, 'c')] using zip() function\n"
     ]
    }
   ],
   "source": [
    "# zip() Returns an iterator, from two or more iterators\n",
    "\n",
    "num: list[int] = [1, 2, 3]\n",
    "name: list[str] = [\"a\", \"b\", \"c\"]\n",
    "zipped: list[tuple[int, str]]= list(zip(num, name))\n",
    "print(f'{num = } and {name = } is {zipped = } using zip() function')\n"
   ]
  }
 ],
 "metadata": {
  "kernelspec": {
   "display_name": ".venv",
   "language": "python",
   "name": "python3"
  },
  "language_info": {
   "codemirror_mode": {
    "name": "ipython",
    "version": 3
   },
   "file_extension": ".py",
   "mimetype": "text/x-python",
   "name": "python",
   "nbconvert_exporter": "python",
   "pygments_lexer": "ipython3",
   "version": "3.12.8"
  }
 },
 "nbformat": 4,
 "nbformat_minor": 2
}
