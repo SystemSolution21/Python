{
 "cells": [
  {
   "cell_type": "code",
   "execution_count": 2,
   "metadata": {
    "colab": {
     "base_uri": "https://localhost:8080/"
    },
    "id": "Ecu-tPJmEXHl",
    "outputId": "19b3aedc-cefb-4fdc-c36e-3708ada3bf56"
   },
   "outputs": [
    {
     "name": "stdout",
     "output_type": "stream",
     "text": [
      "re.compile('[a-z]+')\n",
      "None\n",
      "<re.Match object; span=(0, 5), match='tempo'>\n",
      "tempo\n",
      "0\n",
      "5\n",
      "(0, 5)\n"
     ]
    }
   ],
   "source": [
    "import re\n",
    "\n",
    "# Set pattern re [a-z]+\n",
    "p= re.compile(pattern='[a-z]+')\n",
    "print(p)\n",
    "\n",
    "# Match empty string\n",
    "emt_str = p.match(string=\"\")\n",
    "print(emt_str)\n",
    "\n",
    "# Match regular string\n",
    "reg_str = p.match(string=\"tempo\")\n",
    "print(reg_str)\n",
    "print(reg_str.group())\n",
    "print(reg_str.start())\n",
    "print(reg_str.end())\n",
    "print(reg_str.span())"
   ]
  },
  {
   "cell_type": "code",
   "execution_count": null,
   "metadata": {
    "colab": {
     "base_uri": "https://localhost:8080/"
    },
    "id": "q0dAKSe8Gt7S",
    "outputId": "97d71170-bdf4-478b-8f63-f7f86bb4ed29"
   },
   "outputs": [
    {
     "name": "stdout",
     "output_type": "stream",
     "text": [
      "['user@example.com', 'user@example.co.jp']\n"
     ]
    }
   ],
   "source": [
    "import re\n",
    "\n",
    "# Validate email addresses\n",
    "def is_valid_email(email) -> bool:\n",
    "    pattern = r\"^[a-zA-Z0-9._%+-]+@[a-zA-Z0-9.-]+\\.[a-zA-Z]{2,}$\"\n",
    "    return bool(re.match(pattern=pattern, string=email))\n",
    "\n",
    "# List of emails\n",
    "emails: list[str] = [\"user@example.com\", \"user@example.co.jp\", \"invalid-email@\", \"test@domain\"]\n",
    "valid_email: list[str] = [email for email in emails if is_valid_email(email=email)]\n",
    "print(valid_email)"
   ]
  },
  {
   "cell_type": "code",
   "execution_count": null,
   "metadata": {
    "colab": {
     "base_uri": "https://localhost:8080/"
    },
    "id": "NZ6xa0eKgofN",
    "outputId": "dd4bbcee-399b-43eb-f822-da79acd0f781"
   },
   "outputs": [
    {
     "name": "stdout",
     "output_type": "stream",
     "text": [
      "['+1-800-555-1234']\n"
     ]
    }
   ],
   "source": [
    "import re\n",
    "\n",
    "# Validate phone numbers\n",
    "text = \"Contact: +1-800-555-1234 or 123-456-7890\"\n",
    "phones = re.findall(r\"\\+?\\d{1,3}-\\d{3}-\\d{3}-\\d{4}\", text)\n",
    "print(phones)"
   ]
  },
  {
   "cell_type": "code",
   "execution_count": null,
   "metadata": {
    "colab": {
     "base_uri": "https://localhost:8080/"
    },
    "id": "KGcskDxw2yu0",
    "outputId": "93a9bc34-4825-41e3-93f3-1fd5cef75038"
   },
   "outputs": [
    {
     "name": "stdout",
     "output_type": "stream",
     "text": [
      "['+1-800-555-1234', '123-456-7890', '(123) 456-7890 x123', '+44 1234567890 #123']\n"
     ]
    }
   ],
   "source": [
    "import re\n",
    "\n",
    "# Validate flexible phone numbers pattern including optional country code and extensions.\n",
    "def find_flexible_phone_numbers(text):\n",
    "    \"\"\"\n",
    "    Finds all flexible phone number patterns in a given text.\n",
    "\n",
    "    Args:\n",
    "        text: The input text string.\n",
    "\n",
    "    Returns:\n",
    "        A list of strings, where each string is a matched phone number.\n",
    "    \"\"\"\n",
    "    # Regular expression pattern for flexible phone numbers\n",
    "    pattern = r\"\"\"\n",
    "        (?:\\+\\d{1,3}[-\\s]?)? # Optional country code (e.g., +1)\n",
    "        (?:\\(\\d{3}\\)|\\d{3})? # Optional area code (e.g., (123) or 123)\n",
    "        [-.\\s]?           # Optional separator\n",
    "        \\d{3}             # Three digits\n",
    "        [-.\\s]?           # Optional separator\n",
    "        \\d{4}             # Four digits\n",
    "        (?:\\s*[x#]\\d+)?    # Optional extension (e.g., x123 or #456)\n",
    "    \"\"\"\n",
    "\n",
    "    matches = re.findall(pattern, text, re.VERBOSE)\n",
    "    return [match.strip() for match in matches]\n",
    "\n",
    "# Example usage\n",
    "text = \"Contact: +1-800-555-1234 or 123-456-7890 or (123) 456-7890 x123 or +44 1234567890 #123\"\n",
    "phone_numbers = find_flexible_phone_numbers(text)\n",
    "print(phone_numbers)"
   ]
  },
  {
   "cell_type": "code",
   "execution_count": null,
   "metadata": {
    "colab": {
     "base_uri": "https://localhost:8080/"
    },
    "id": "p7WEJykLuLmY",
    "outputId": "c7e2d97d-f030-4b57-e22c-9b84562e5e1a"
   },
   "outputs": [
    {
     "name": "stdout",
     "output_type": "stream",
     "text": [
      "['+81-03-5555-1234', '03-3456-7890 x123', '(047) 123-4567', '(03) 4456-7890', '+81 12 3456 7890 #123']\n"
     ]
    }
   ],
   "source": [
    "import re\n",
    "\n",
    "# Validate flexible phone numbers pattern including optional country code and extensions.\n",
    "def find_flexible_phone_numbers(text):\n",
    "    \"\"\"\n",
    "    Finds all flexible phone number patterns in a given text.\n",
    "\n",
    "    Args:\n",
    "        text: The input text string.\n",
    "\n",
    "    Returns:\n",
    "        A list of strings, where each string is a matched phone number.\n",
    "    \"\"\"\n",
    "    # Regular expression pattern for flexible phone numbers\n",
    "    pattern = r\"\"\"\n",
    "        (?:\\+\\d{1,3}[-\\s]?)? # Optional country code (e.g., +81- or +81)\n",
    "        (?:\\(\\d{2,3}\\)|\\d{2,3})? # Optional area code two or three digit\n",
    "        [-.\\s]?           # Optional separator\n",
    "        \\d{3,4}             # Three or four digits\n",
    "        [-.\\s]?           # Optional separator\n",
    "        \\d{4}             # Four digits\n",
    "        (?:\\s*[x#]\\d+)?    # Optional extension (e.g., x123 or #456)\n",
    "    \"\"\"\n",
    "\n",
    "    matches = re.findall(pattern, text, re.VERBOSE)\n",
    "    return [match.strip() for match in matches]\n",
    "\n",
    "# Example usage\n",
    "text = \"Contact: +81-03-5555-1234 or 03-3456-7890 x123 or (047) 123-4567 or (03) 4456-7890 or +81 12 3456 7890 #123\"\n",
    "phone_numbers = find_flexible_phone_numbers(text)\n",
    "print(phone_numbers)"
   ]
  },
  {
   "cell_type": "code",
   "execution_count": null,
   "metadata": {
    "colab": {
     "base_uri": "https://localhost:8080/"
    },
    "id": "Kh-_dCa0WAOI",
    "outputId": "0b1e3a82-0f3a-437b-8037-e865f891288f"
   },
   "outputs": [
    {
     "name": "stdout",
     "output_type": "stream",
     "text": [
      "Timestamp: 2024-12-01 10:20:30, IP: 192.168.0.1\n"
     ]
    }
   ],
   "source": [
    "import re\n",
    "\n",
    "# Log Parsing\n",
    "# Extracting data from server logs (e.g., timestamps, IP addresses, error messages).S\n",
    "\n",
    "log_entry = \"2024-12-01 10:20:30 ERROR: Client 192.168.0.1 failed to connect.\"\n",
    "\n",
    "# Extract timestamp and IP address\n",
    "pattern = r\"(\\d{4}-\\d{2}-\\d{2} \\d{2}:\\d{2}:\\d{2}).*?(\\d+\\.\\d+\\.\\d+\\.\\d+)\"\n",
    "match = re.search(pattern, log_entry)\n",
    "if match:\n",
    "    timestamp, ip_address = match.groups()\n",
    "    print(f\"Timestamp: {timestamp}, IP: {ip_address}\")\n"
   ]
  },
  {
   "cell_type": "code",
   "execution_count": null,
   "metadata": {
    "colab": {
     "base_uri": "https://localhost:8080/"
    },
    "id": "jfJH9uYFXEMp",
    "outputId": "7caf6a25-6802-4f0e-b136-568f6d648743"
   },
   "outputs": [
    {
     "name": "stdout",
     "output_type": "stream",
     "text": [
      "['https://example.com', 'https://domain.org']\n"
     ]
    }
   ],
   "source": [
    "import re\n",
    "\n",
    "# Web Scraping\n",
    "# Extracting specific patterns like URLs, prices, or metadata from web pages.\n",
    "\n",
    "html = \"\"\"\n",
    "<a href=\"https://example.com\">Example</a>\n",
    "<a href=\"https://domain.org\">Domain</a>\n",
    "\"\"\"\n",
    "\n",
    "# Extract all URLs\n",
    "urls = re.findall(r'href=\"(https?://[^\"]+)\"', html)\n",
    "print(urls)"
   ]
  },
  {
   "cell_type": "code",
   "execution_count": null,
   "metadata": {
    "colab": {
     "base_uri": "https://localhost:8080/"
    },
    "id": "q6MOaKC5XbB2",
    "outputId": "0bfa5f93-30d9-4c9e-d12a-5c683d5c4ec4"
   },
   "outputs": [
    {
     "name": "stdout",
     "output_type": "stream",
     "text": [
      "User123 Name: Dr.Kishor Email: kishor@domain.com\n"
     ]
    }
   ],
   "source": [
    "import re\n",
    "\n",
    "# Data Cleaning\n",
    "# Cleaning up or transforming unstructured data.\n",
    "\n",
    "data = \"User123   !, Name: Dr.Kishor, Email: kishor@domain.com\"\n",
    "\n",
    "# Remove special characters and extra spaces\n",
    "cleaned = re.sub(r\"[^\\w\\s:@.]+\", \"\", data)\n",
    "cleaned = re.sub(r\"\\s{2,}\", \" \", cleaned)\n",
    "print(cleaned)"
   ]
  },
  {
   "cell_type": "code",
   "execution_count": null,
   "metadata": {
    "colab": {
     "base_uri": "https://localhost:8080/"
    },
    "id": "7XGIx4EeX9dK",
    "outputId": "1c58ad21-958f-46c3-e3a5-7c295f7ef641"
   },
   "outputs": [
    {
     "name": "stdout",
     "output_type": "stream",
     "text": [
      "['Hello world', 'This is Dr', 'Kishor', \"Let's tokenize it\"]\n"
     ]
    }
   ],
   "source": [
    "import re\n",
    "\n",
    "# Tokenization in NLP\n",
    "# Splitting text into words, sentences, or other meaningful tokens.\n",
    "\n",
    "text = \"Hello world! This is Dr. Kishor. Let's tokenize it.\"\n",
    "\n",
    "# Split sentences\n",
    "sentences = re.split(r'[.!?]', text)\n",
    "sentences = [s.strip() for s in sentences if s.strip()]\n",
    "print(sentences)"
   ]
  },
  {
   "cell_type": "code",
   "execution_count": null,
   "metadata": {
    "colab": {
     "base_uri": "https://localhost:8080/"
    },
    "id": "gCveO3YrZ4As",
    "outputId": "7aa83ca6-479d-468f-f8de-df8e17eb2378"
   },
   "outputs": [
    {
     "name": "stdout",
     "output_type": "stream",
     "text": [
      "['def', 'return']\n"
     ]
    }
   ],
   "source": [
    "import re\n",
    "\n",
    "# Syntax Highlighting\n",
    "# Matching and highlighting keywords or patterns in a text editor.\n",
    "\n",
    "code = \"def my_function(x): return x * 2\"\n",
    "\n",
    "# Highlight keywords\n",
    "keywords = re.findall(r\"\\b(def|return)\\b\", code)\n",
    "print(keywords)"
   ]
  },
  {
   "cell_type": "code",
   "execution_count": null,
   "metadata": {
    "colab": {
     "base_uri": "https://localhost:8080/"
    },
    "id": "e1nTGktVaSIN",
    "outputId": "e1bf03c3-9b75-4f2b-eb30-d0c0d4bf375c"
   },
   "outputs": [
    {
     "name": "stdout",
     "output_type": "stream",
     "text": [
      "{'username': 'admin', 'password': '1234', 'host': 'localhost'}\n"
     ]
    }
   ],
   "source": [
    "import re\n",
    "\n",
    "# Config File Parsing\n",
    "# Extracting key-value pairs from configuration files.\n",
    "\n",
    "config = \"\"\"\n",
    "username=admin\n",
    "password=1234\n",
    "host=localhost\n",
    "\"\"\"\n",
    "\n",
    "# Extract key-value pairs\n",
    "settings = dict(re.findall(r\"(\\w+)=(\\w+)\", config))\n",
    "print(settings)"
   ]
  },
  {
   "cell_type": "code",
   "execution_count": null,
   "metadata": {
    "colab": {
     "base_uri": "https://localhost:8080/"
    },
    "id": "HfpFmxvdau2n",
    "outputId": "a12a894c-501b-4ee9-fec8-2d77a82b2f54"
   },
   "outputs": [
    {
     "name": "stdout",
     "output_type": "stream",
     "text": [
      "Invoice No: 12345, Total: 1,234.56\n"
     ]
    }
   ],
   "source": [
    "import re\n",
    "\n",
    "# Data Extraction\n",
    "# Extracting structured information from unstructured documents, such as invoices or reports.\n",
    "\n",
    "invoice = \"Invoice #12345 Date: 2024-12-01 Total: $1,234.56\"\n",
    "\n",
    "# Extract invoice number and total\n",
    "pattern = r\"Invoice #(\\d+).*?Total: \\$(\\d+,\\d+\\.\\d+)\"\n",
    "match = re.search(pattern, invoice)\n",
    "if match:\n",
    "    invoice_no, total = match.groups()\n",
    "    print(f\"Invoice No: {invoice_no}, Total: {total}\")\n"
   ]
  },
  {
   "cell_type": "code",
   "execution_count": null,
   "metadata": {
    "colab": {
     "base_uri": "https://localhost:8080/"
    },
    "id": "xYB01ztfbQhJ",
    "outputId": "d970ff3b-19fd-4b22-d73e-b47a1ca11e51"
   },
   "outputs": [
    {
     "name": "stdout",
     "output_type": "stream",
     "text": [
      "True\n"
     ]
    }
   ],
   "source": [
    "import re\n",
    "\n",
    "# Spam Detection\n",
    "# Detecting spam messages by matching patterns like suspicious URLs or phrases.\n",
    "\n",
    "message = \"Congratulations! You have won $1,000. Visit http://scam.com to claim your prize.\"\n",
    "\n",
    "# Detect spam patterns\n",
    "spam_patterns = [r\"\\$\\d+\", r\"http://\\S+\", r\"won\"]\n",
    "is_spam = any(re.search(pattern, message) for pattern in spam_patterns)\n",
    "print(is_spam)"
   ]
  },
  {
   "cell_type": "code",
   "execution_count": null,
   "metadata": {
    "colab": {
     "base_uri": "https://localhost:8080/"
    },
    "id": "_xA4Hob3b1dE",
    "outputId": "bea93d4d-0113-43f5-9b05-bae330999992"
   },
   "outputs": [
    {
     "name": "stdout",
     "output_type": "stream",
     "text": [
      "[('1', '0', '0'), ('2', '3', '4'), ('3', '1', '2')]\n"
     ]
    }
   ],
   "source": [
    "import re\n",
    "\n",
    "# Version Control\n",
    "# Parsing version strings for software updates.\n",
    "\n",
    "version_strings = [\"v1.0.0\", \"v2.3.4-alpha\", \"v3.1.2\"]\n",
    "\n",
    "# Extract major, minor, and patch versions\n",
    "versions = [re.match(r\"v(\\d+)\\.(\\d+)\\.(\\d+)\", v).groups() for v in version_strings if re.match(r\"v\\d+\\.\\d+\\.\\d+\", v)]\n",
    "print(versions)  # Output: [('1', '0', '0'), ('2', '3', '4'), ('3', '1', '2')]"
   ]
  }
 ],
 "metadata": {
  "colab": {
   "provenance": []
  },
  "kernelspec": {
   "display_name": ".venv",
   "language": "python",
   "name": "python3"
  },
  "language_info": {
   "codemirror_mode": {
    "name": "ipython",
    "version": 3
   },
   "file_extension": ".py",
   "mimetype": "text/x-python",
   "name": "python",
   "nbconvert_exporter": "python",
   "pygments_lexer": "ipython3",
   "version": "3.12.8"
  }
 },
 "nbformat": 4,
 "nbformat_minor": 0
}
