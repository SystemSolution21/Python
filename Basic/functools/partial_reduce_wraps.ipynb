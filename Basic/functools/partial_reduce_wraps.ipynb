{
 "cells": [
  {
   "cell_type": "code",
   "execution_count": null,
   "metadata": {},
   "outputs": [
    {
     "name": "stdout",
     "output_type": "stream",
     "text": [
      "result = 8\n",
      "product = 120\n"
     ]
    }
   ],
   "source": [
    "# 3. partial - Creates new functions with some argument fixed\n",
    "\n",
    "from functools import partial, reduce\n",
    "\n",
    "def multiply(x: int, y: int) -> int:\n",
    "    \"\"\"Multiplies two integers together.\n",
    "\n",
    "    Args:\n",
    "        x (int): First number to multiply\n",
    "        y (int): Second number to multiply\n",
    "\n",
    "    Returns:\n",
    "        int: Product of x and y\n",
    "    \"\"\"\n",
    "    return x * y\n",
    "\n",
    "# Partial function that has y parameter fixed to 2\n",
    "double = partial(multiply, y=2)\n",
    "result: int = double(x=4)  # Equivalent to multiply(x=4, y=2)\n",
    "print(f'{result = }')\n",
    "\n",
    "\n",
    "# 4. reduce - Apply function of two arguments cumulatively\n",
    "numbers: list[int] = [1, 2, 3, 4, 5]\n",
    "\n",
    "product: int = reduce(multiply, numbers)\n",
    "print(f'{product = }')\n"
   ]
  },
  {
   "cell_type": "code",
   "execution_count": null,
   "metadata": {},
   "outputs": [
    {
     "name": "stdout",
     "output_type": "stream",
     "text": [
      "time_sleep took 2.01 seconds\n",
      "Done!\n"
     ]
    }
   ],
   "source": [
    "# 5. wraps - Preserves metadata of wrapped function\n",
    "from functools import wraps\n",
    "import time\n",
    "\n",
    "def timer(func):\n",
    "    \"\"\"A decorator that measures and prints the execution time of a function.\n",
    "    \n",
    "    Args:\n",
    "        func: The function to be wrapped and timed.\n",
    "        \n",
    "    Returns:\n",
    "        wrapper: A wrapped function that includes timing functionality.\n",
    "    \"\"\"    \n",
    "    @wraps(wrapped=func)\n",
    "    def wrapper(*args, **kwargs):\n",
    "        \"\"\"Wrapper function that adds timing functionality.\n",
    "        \n",
    "        Args:\n",
    "            *args: Variable positional arguments passed to the wrapped function.\n",
    "            **kwargs: Variable keyword arguments passed to the wrapped function.\n",
    "            \n",
    "        Returns:\n",
    "            The result of the wrapped function.\n",
    "        \"\"\"\n",
    "        start: float = time.time()\n",
    "        result = func(*args, *kwargs)\n",
    "        end: float = time.time()\n",
    "        print(f'{func.__name__} took {end - start:.2f} seconds')\n",
    "        return result\n",
    "    return wrapper\n",
    "\n",
    "@timer\n",
    "def time_sleep() -> str:\n",
    "    time.sleep(2)\n",
    "    return \"Done!\"\n",
    "\n",
    "print(time_sleep())\n"
   ]
  }
 ],
 "metadata": {
  "kernelspec": {
   "display_name": ".venv",
   "language": "python",
   "name": "python3"
  },
  "language_info": {
   "codemirror_mode": {
    "name": "ipython",
    "version": 3
   },
   "file_extension": ".py",
   "mimetype": "text/x-python",
   "name": "python",
   "nbconvert_exporter": "python",
   "pygments_lexer": "ipython3",
   "version": "3.12.8"
  }
 },
 "nbformat": 4,
 "nbformat_minor": 2
}
