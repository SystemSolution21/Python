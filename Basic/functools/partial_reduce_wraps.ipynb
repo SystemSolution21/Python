from functools import partial

def multiply(x: int, y: int) -> int:
    """Multiplies two integers together.

    Args:
        x (int): First number to multiply
        y (int): Second number to multiply

    Returns:
        int: Product of x and y
    """
    return x * y

# Create a new function that has y parameter fixed to 2
double = partial(multiply, y=2)
result: int = double(x=4)  # Equivalent to multiply(x=4, y=2)
print(f'{result = }')

