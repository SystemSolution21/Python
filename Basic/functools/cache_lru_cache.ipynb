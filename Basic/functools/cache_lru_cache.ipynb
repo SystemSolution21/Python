{
 "cells": [
  {
   "cell_type": "code",
   "execution_count": 19,
   "metadata": {},
   "outputs": [
    {
     "name": "stdout",
     "output_type": "stream",
     "text": [
      "3628800\n",
      "120\n",
      "2432902008176640000\n",
      "1\n",
      "1\n"
     ]
    }
   ],
   "source": [
    "# cache\n",
    "from functools import cache\n",
    "\n",
    "@cache\n",
    "def factorial(n: int) -> int:\n",
    "    """Calculate the factorial of a given number using recursion.
    The @cache decorator memoizes results to avoid recalculating previously computed values.

    Args:
        n (int): The number to calculate factorial for. Can be zero or positive.

    Returns:
        int: The factorial of n. Returns 1 for n < 1.
    """
    if n < 1:
        return 1
    
    return (n * factorial(n-1))\n",
    "\n",
    "print(factorial(10))\n",
    "print(factorial(5))\n",
    "print(factorial(20))\n",
    "print(factorial(0))\n",
    "print(factorial(-5))"
   ]
  }
 ],
 "metadata": {
  "kernelspec": {
   "display_name": ".venv",
   "language": "python",
   "name": "python3"
  },
  "language_info": {
   "codemirror_mode": {
    "name": "ipython",
    "version": 3
   },
   "file_extension": ".py",
   "mimetype": "text/x-python",
   "name": "python",
   "nbconvert_exporter": "python",
   "pygments_lexer": "ipython3",
   "version": "3.12.8"
  }
 },
 "nbformat": 4,
 "nbformat_minor": 2
}

