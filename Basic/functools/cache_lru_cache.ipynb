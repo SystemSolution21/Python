{
 "cells": [
  {
   "cell_type": "code",
   "execution_count": null,
   "metadata": {},
   "outputs": [
    {
     "name": "stdout",
     "output_type": "stream",
     "text": [
      "3628800\n",
      "120\n",
      "2432902008176640000\n",
      "1\n",
      "1\n"
     ]
    }
   ],
   "source": [
    "# cache - Memoization decorator\n",
    "from functools import cache\n",
    "\n",
    "@cache\n",
    "def factorial(n: int) -> int:\n",
    "    \"\"\"Calculate the factorial of a given number using recursion.\n",
    "    The @cache decorator memoizes results to avoid recalculating previously computed values.\n",
    "\n",
    "    Args:\n",
    "        n (int): The number to calculate factorial for. Can be zero or positive.\n",
    "\n",
    "    Returns:\n",
    "        int: The factorial of n. Returns 1 for n < 1.\n",
    "    \"\"\"\n",
    "    if n < 1:\n",
    "        return 1\n",
    "    \n",
    "    return (n * factorial(n-1))\n",
    "\n",
    "# Usages\n",
    "print(factorial(10))\n",
    "print(factorial(5))\n",
    "print(factorial(20))\n",
    "print(factorial(0))\n",
    "print(factorial(-5))"
   ]
  },
  {
   "cell_type": "code",
   "execution_count": 7,
   "metadata": {},
   "outputs": [
    {
     "name": "stdout",
     "output_type": "stream",
     "text": [
      "354224848179261915075\n",
      "CacheInfo(hits=98, misses=101, maxsize=128, currsize=101)\n"
     ]
    }
   ],
   "source": [
    "# lru_cache - Memoization decorator\n",
    "from functools import lru_cache\n",
    "\n",
    "@lru_cache(maxsize=128)\n",
    "def fibonacci(n) -> int:\n",
    "    \"\"\"Calculate the nth Fibonacci number using dynamic programming with memoization.\n",
    "    \n",
    "    The function uses the LRU (Least Recently Used) cache decorator to store previously \n",
    "    calculated values, significantly improving performance for recursive calls.\n",
    "    \n",
    "    Args:\n",
    "        n (int): The position in the Fibonacci sequence to calculate\n",
    "        \n",
    "    Returns:\n",
    "        int: The nth Fibonacci number\n",
    "        \n",
    "    Note:\n",
    "        maxsize=128 limits the cache to store up to 128 most recent results\n",
    "    \"\"\"\n",
    "    if n < 2:\n",
    "        return n\n",
    "    \n",
    "    return fibonacci(n-1) + fibonacci(n-2)\n",
    "\n",
    "# Usages\n",
    "print(fibonacci(100))\n",
    "print(fibonacci.cache_info()) # View cache statistics\n"
   ]
  }
 ],
 "metadata": {
  "kernelspec": {
   "display_name": ".venv",
   "language": "python",
   "name": "python3"
  },
  "language_info": {
   "codemirror_mode": {
    "name": "ipython",
    "version": 3
   },
   "file_extension": ".py",
   "mimetype": "text/x-python",
   "name": "python",
   "nbconvert_exporter": "python",
   "pygments_lexer": "ipython3",
   "version": "3.12.8"
  }
 },
 "nbformat": 4,
 "nbformat_minor": 2
}
