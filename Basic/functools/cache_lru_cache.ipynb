{
 "cells": [
  {
   "cell_type": "code",
   "execution_count": 6,
   "metadata": {},
   "outputs": [
    {
     "name": "stdout",
     "output_type": "stream",
     "text": [
      "3628800\n",
      "120\n",
      "2432902008176640000\n",
      "1\n",
      "1\n"
     ]
    }
   ],
   "source": [
    "# cache\n",
    "from functools import cache\n",
    "\n",
    "@cache\n",
    "def factorial(n: int) -> int:\n",
    "    \"\"\"Calculate the factorial of a given number using recursion.\n",
    "    The @cache decorator memoizes results to avoid recalculating previously computed values.\n",
    "\n",
    "    Args:\n",
    "        n (int): The number to calculate factorial for. Can be zero or positive.\n",
    "\n",
    "    Returns:\n",
    "        int: The factorial of n. Returns 1 for n < 1.\n",
    "    \"\"\"\n",
    "    if n < 1:\n",
    "        return 1\n",
    "    return (n * factorial(n-1))\n",
    "\n",
    "print(factorial(10))\n",
    "print(factorial(5))\n",
    "print(factorial(20))\n",
    "print(factorial(0))\n",
    "print(factorial(-5))"
   ]
  },
  {
   "cell_type": "code",
   "execution_count": 1,
   "metadata": {},
   "outputs": [
    {
     "name": "stdout",
     "output_type": "stream",
     "text": [
      "Fibonacci of 500 is 139423224561697880139724382870407283950070256587697307264108962948325571622863290691557658876222521294125\n"
     ]
    }
   ],
   "source": [
    "# Fibonacci\n",
    "# Least Recently Used Cache\n",
    "from functools import lru_cache\n",
    "\n",
    "@lru_cache(maxsize=128)\n",
    "def fib(n: int) -> int:\n",
    "    \"\"\"\n",
    "    Calculate the nth Fibonacci number using LRU cache for memoization.\n",
    "    \n",
    "    This function uses Python's built-in lru_cache decorator to store \n",
    "    previously calculated Fibonacci numbers, preventing redundant calculations\n",
    "    and allowing efficient computation of large Fibonacci numbers.\n",
    "    \n",
    "    Args:\n",
    "        n (int): The position in the Fibonacci sequence to calculate\n",
    "        \n",
    "    Returns:\n",
    "        int: The nth Fibonacci number\n",
    "    \"\"\"\n",
    "    \n",
    "    # Base\n",
    "    if n <= 2:\n",
    "        return 1\n",
    "    \n",
    "    else:\n",
    "        # Recursion\n",
    "        result: int = fib(n-1) + fib(n-2)\n",
    "\n",
    "    return result\n",
    "\n",
    "# Usage\n",
    "n: int = 500\n",
    "result: int = fib(n=n)\n",
    "print(f'Fibonacci of {n} is {result}')"
   ]
  }
 ],
 "metadata": {
  "kernelspec": {
   "display_name": ".venv",
   "language": "python",
   "name": "python3"
  },
  "language_info": {
   "codemirror_mode": {
    "name": "ipython",
    "version": 3
   },
   "file_extension": ".py",
   "mimetype": "text/x-python",
   "name": "python",
   "nbconvert_exporter": "python",
   "pygments_lexer": "ipython3",
   "version": "3.12.8"
  }
 },
 "nbformat": 4,
 "nbformat_minor": 2
}
